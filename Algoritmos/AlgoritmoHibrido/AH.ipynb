{
 "cells": [
  {
   "cell_type": "markdown",
   "metadata": {},
   "source": [
    "# Algoritmo Híbrido (AH)"
   ]
  },
  {
   "cell_type": "markdown",
   "metadata": {},
   "source": [
    "----"
   ]
  },
  {
   "cell_type": "markdown",
   "metadata": {},
   "source": [
    "A metodologia do AH é concebida para unir as estratégias de otimização local e global de \n",
    "maneira harmoniosa. Inicialmente, um enxame de partículas é gerado, cada uma representando \n",
    "uma possível rota. A avaliação das rotas leva em consideração a distância total percorrida. A \n",
    "integração do Algoritmo do Vizinho Mais Próximo permite aprimorar localmente uma partícula \n",
    "selecionada, corrigindo eventuais deficiências nas soluções. A exploração global é estimulada \n",
    "pelo rastreamento das melhores soluções globais e pessoais. A interação entre os componentes \n",
    "locais e globais proporciona um equilíbrio entre exploração e intensificação, ressaltando a \n",
    "interconexão dos conceitos abordados na disciplina \"Computabilidade e Complexidade de \n",
    "Algoritmos\".\n"
   ]
  },
  {
   "cell_type": "markdown",
   "metadata": {},
   "source": [
    "----"
   ]
  },
  {
   "cell_type": "markdown",
   "metadata": {},
   "source": [
    "# Passo-a-Passo\n",
    "\n",
    "Imagine que estamos enfrentando o desafio de planejar uma viagem para um caixeiro \n",
    "viajante que precisa visitar várias cidades e voltar para casa, cobrindo a menor distância \n",
    "possível. A abordagem hibrida (AB) é uma estratégia inovadora que combina dois métodos \n",
    "diferentes para encontrar a melhor rota possível.\n",
    "1. Inicialização:\n",
    "a. Começamos criando um grupo de soluções possíveis para a viagem. Cada \n",
    "solução é como uma rota que o caixeiro pode seguir.\n",
    "b. Cada solução começa em uma cidade aleatória. Essas cidades podem ser \n",
    "imaginadas como pontos em um mapa.\n",
    "2. Avaliação: \n",
    "a. Agora, avaliamos cada rota para ver quão longa ela é. Isso significa calcular a \n",
    "distância total que o caixeiro viajante percorreria seguindo essa rota.\n",
    "3. Melhor Global e Melhores Pessoais:\n",
    "a. Mantemos uma nota de rota mais curta que encontramos até agora. Isso é \n",
    "chamado de “Melhor Global” (GBest).\n",
    "b. Também guardamos as rotas mais curtas encontradas por cada solução \n",
    "individualmente. Isso é chamado de “Melhor Pessoal” (PBest) para cada \n",
    "solução.\n",
    "4. Algoritmo do Vizinho Mais Próximo\n",
    "a. Selecionamos aleatoriamente uma das rotas (soluções) para tentar melhorá-la.\n",
    "b. Começamos em uma cidade aleatória e, em cada etapa, escolhemos a cidade \n",
    "mais próxima que ainda não visitamos.\n",
    "c. Continuamos escolhendo as cidades mais próximas até que todas as cidades \n",
    "sejam visitadas. Isso nos dá uma nova rota.\n",
    "5. Atualização do Enxame:\n",
    "a. Comparamos a nova rota que encontramos usando o Algoritmo do Vizinho Mais \n",
    "Próximo com a rota original da solução que escolhemos.\n",
    "b. Se a nova rota for mais curta, substituímos a rota original pela nova.\n",
    "6. Atualização Global e Melhores Pessoais:\n",
    "9\n",
    "a. Se a nova rota que encontramos for melhor do que a Melhor Global (GBest), \n",
    "atualizamos a GBest.\n",
    "b. Também atualizamos o PBest para cada solução com base nas rotas que elas têm \n",
    "agora.\n",
    "7. Movimento do Enxame:\n",
    "a. Agora, fazemos as soluções se moverem como um grupo. Elas são influenciadas \n",
    "pela Melhor Global (GBest) e pelo Melhor Pessoal (PBest).\n",
    "b. Isso significa que cada solução é atraída para as boas rotas encontradas por \n",
    "outras soluções, mas também pode seguir seu próprio caminho se encontrar algo \n",
    "melhor.\n",
    "8. Critério de Parada: \n",
    "a. Repetimos os passos 2 a 7 várias vezes (chamamos essas repetições de \n",
    "“iterações”).\n",
    "b. Paramos quando tivermos feito um número definido de iterações ou quando não \n",
    "vemos melhorias significativas por um tempo.\n",
    "9. Resultado: \n",
    "a. Depois de todas as iterações, a rota que tiver a menor distância total (Melhor \n",
    "Global – Gbest) representa a melhor solução que encontramos para a viagem do \n",
    "caixeiro viajante.\n",
    "Essa abordagem hibrida (AH), aproveita o poder de duas estratégias diferentes para resolver o \n",
    "desafio do caixeiro viajante. Ela mostra como combinar as vantagens de cada método pode nos \n",
    "ajudar a encontrar soluções melhores para problemas complexos"
   ]
  },
  {
   "cell_type": "markdown",
   "metadata": {},
   "source": [
    "----"
   ]
  },
  {
   "cell_type": "markdown",
   "metadata": {},
   "source": [
    "# VANTAGENS\n",
    "1. Exploração Equilibrada e Sinergia Algorítmica: A AH capitaliza a sinergia entre as \n",
    "estratégias de exploração local do Algoritmo do Vizinho Mais Próximo e a exploração \n",
    "global do Algoritmo de Otimização por Enxame de Partículas (PSO). Essa combinação \n",
    "equilibrada permite que a abordagem busque soluções de alta qualidade em escalas \n",
    "locais e globais, explorando as forças de ambos os algoritmos.\n",
    "2. Eficiência na Convergência: A inclusão da estratégia de melhoria local do \n",
    "Algoritmo do Vizinho Mais Próximo no contexto da exploração global do PSO resulta \n",
    "10\n",
    "em uma convergência mais rápida para soluções de alta qualidade. A abordagem AH \n",
    "evita ficar presa em mínimos locais e contribui para a convergência global.\n",
    "3. Adaptabilidade às Características do Problema: A AH pode ser adaptada para se \n",
    "adequar a diferentes instâncias do PCV, permitindo ajustes nos parâmetros, como o \n",
    "tamanho do enxame, a taxa de mutação e o número de iterações. Isso permite uma \n",
    "otimização mais precisa, levando em consideração as características específicas de cada \n",
    "instância.\n",
    "\n",
    "# DESVANTAGENS\n",
    "1. Complexidade Aumentada de Implementação: A combinação de duas estratégias \n",
    "algorítmicas distintas, o Algoritmo do Vizinho Mais Próximo e o PSO, pode aumentar \n",
    "a complexidade da implementação. Isso exige um entendimento detalhado de ambos os \n",
    "algoritmos e pode dificultar a criação do código.\n",
    "2. Sensibilidade aos Parâmetros: A eficácia da VEV pode ser sensível à escolha dos \n",
    "parâmetros, como o tamanho do enxame, a taxa de mutação e o número de iterações. \n",
    "Encontrar a combinação ideal de parâmetros requer experimentação e ajustes \n",
    "cuidadosos, o que pode ser uma tarefa desafiadora.\n",
    "3. Desempenho em Instâncias Grandes do PCV: Embora a VEV equilibre exploração \n",
    "local e global, sua eficácia pode ser comprometida em instâncias excepcionalmente \n",
    "grandes do PCV. Nessas situações, a predominância do Algoritmo do Vizinho Mais \n",
    "Próximo pode levar a soluções sub ótimas.\n",
    "# RESULTADOS\n",
    "Para avaliar a eficácia da abordagem hibrida (AH), conduzimos experimentos usando \n",
    "instâncias variadas do Problema do Caixeiro Viajante (PCV). As instâncias abrangiam \n",
    "diferentes números de cidades e configurações de distância entre elas. Também comparamos \n",
    "os resultados da AH com outras abordagens, como o Algoritmo do Vizinho Mais Próximo e o \n",
    "Algoritmo de Otimização por Enxame de Partículas (PSO) usados individualmente.\n",
    "Os resultados demonstraram que a abordagem AH oferece vantagens significativas em \n",
    "comparação com as abordagens individuais. A AH alcançou soluções de qualidade semelhante \n",
    "11\n",
    "ao Algoritmo do Vizinho Mais Próximo em menos iterações, devido à exploração equilibrada \n",
    "entre exploração local e global. Além disso, a convergência mais rápida da AH em comparação \n",
    "com o PSO (Particle Swarm Optimization) isolado destaca a sinergia entre as estratégias \n",
    "algorítmicas."
   ]
  },
  {
   "cell_type": "markdown",
   "metadata": {},
   "source": [
    "----"
   ]
  },
  {
   "cell_type": "code",
   "execution_count": null,
   "metadata": {},
   "outputs": [],
   "source": [
    "Entrada: Número de partículas, número de iterações\n",
    "// Inicialização\n",
    "Para cada partícula:\n",
    "    Criar uma rota aleatória\n",
    "    Avaliar a rota (calcular a distância total)\n",
    "    Definir a melhor rota pessoal (PBest) como a rota inicial\n",
    "Definir a melhor rota global (GBest) como a rota da primeira partícula\n",
    "// Iterações\n",
    "Para cada iteração de 1 até o número de iterações:\n",
    "    Para cada partícula:\n",
    "        // Algoritmo do Vizinho Mais Próximo\n",
    "        Escolher aleatoriamente uma partícula para o processo de melhoria\n",
    "        Aplicar o Algoritmo do Vizinho Mais Próximo para melhorar a rota dessa partícula\n",
    "        \n",
    "        // Atualizar a rota da partícula se a rota melhorou\n",
    "        Se a nova rota for melhor do que a rota atual:\n",
    "            Atualizar a rota da partícula\n",
    "            Atualizar a PBest da partícula se a rota melhorou\n",
    "        // Atualizar GBest se a rota da partícula atual for melhor\n",
    "        Se a rota atual da partícula for melhor do que GBest:\n",
    "            Atualizar GBest\n",
    "    // Atualização do enxame\n",
    "    Para cada partícula:\n",
    "        Calcular a nova velocidade baseada em PBest e GBest\n",
    "        Atualizar a posição da partícula com base na velocidade\n",
    "Fim do algoritmo AH"
   ]
  },
  {
   "cell_type": "code",
   "execution_count": null,
   "metadata": {},
   "outputs": [],
   "source": [
    "import numpy as np\n",
    "\n",
    "def inicializar_particulas(num_particulas, num_cidades):\n",
    "    particulas = []\n",
    "    for _ in range(num_particulas):\n",
    "        rota = np.random.permutation(num_cidades)\n",
    "        particulas.append({'rota': rota, 'velocidade': np.zeros(num_cidades)})\n",
    "    return particulas\n",
    "\n",
    "def calcular_distancia(rota, matriz_distancias):\n",
    "    distancia = sum(matriz_distancias[rota[i], rota[i+1]] for i in range(len(rota)-1))\n",
    "    return distancia\n",
    "\n",
    "def aplicar_knn(rota, matriz_distancias):\n",
    "    # Implementação do KNN para melhorar a rota\n",
    "    pass\n",
    "\n",
    "def atualizar_velocidade_e_posicao(particula, PBest, GBest, w, c1, c2):\n",
    "    # Atualização da velocidade e posição da partícula\n",
    "    pass\n",
    "\n",
    "# Parâmetros\n",
    "num_particulas = 10\n",
    "num_iteracoes = 100\n",
    "num_cidades = 50\n",
    "matriz_distancias = np.random.rand(num_cidades, num_cidades)  # Matriz de distâncias\n",
    "\n",
    "# Inicialização\n",
    "particulas = inicializar_particulas(num_particulas, num_cidades)\n",
    "PBest = [...]\n",
    "GBest = ...\n",
    "\n",
    "# Iterações\n",
    "for iteracao in range(num_iteracoes):\n",
    "    for particula in particulas:\n",
    "        nova_rota = aplicar_knn(particula['rota'], matriz_distancias)\n",
    "        # Atualizar rota, PBest e GBest\n",
    "        atualizar_velocidade_e_posicao(particula, PBest, GBest, w, c1, c2)\n",
    "\n",
    "# Análise dos resultados\n",
    "# FIM"
   ]
  },
  {
   "cell_type": "markdown",
   "metadata": {},
   "source": [
    "Este código representa um esboço inicial de um algoritmo híbrido que combina técnicas de Otimização por Enxame de Partículas (PSO) e K-Nearest Neighbors (KNN). Devido à complexidade inerente de tal abordagem, especialmente no contexto de otimização de rotas, o código está incompleto e requer desenvolvimento adicional. As funções-chave aplicar_knn e atualizar_velocidade_e_posicao ainda precisam ser implementadas detalhadamente. Além disso, ajustes específicos ao contexto do problema e testes extensivos são necessários para garantir a funcionalidade e eficácia do algoritmo.\n",
    "\n"
   ]
  }
 ],
 "metadata": {
  "kernelspec": {
   "display_name": "Python 3",
   "language": "python",
   "name": "python3"
  },
  "language_info": {
   "name": "python",
   "version": "3.10.7"
  }
 },
 "nbformat": 4,
 "nbformat_minor": 2
}
